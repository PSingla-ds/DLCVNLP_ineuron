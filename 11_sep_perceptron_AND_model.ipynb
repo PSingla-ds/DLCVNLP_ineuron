{
  "nbformat": 4,
  "nbformat_minor": 0,
  "metadata": {
    "colab": {
      "name": "11_sep_perceptron_AND model.ipynb",
      "provenance": [],
      "collapsed_sections": [],
      "authorship_tag": "ABX9TyMAtTqYij4D/y2e4TbukrCN",
      "include_colab_link": true
    },
    "kernelspec": {
      "name": "python3",
      "display_name": "Python 3"
    },
    "language_info": {
      "name": "python"
    }
  },
  "cells": [
    {
      "cell_type": "markdown",
      "metadata": {
        "id": "view-in-github",
        "colab_type": "text"
      },
      "source": [
        "<a href=\"https://colab.research.google.com/github/PSingla-ds/DLCVNLP_ineuron/blob/main/11_sep_perceptron_AND_model.ipynb\" target=\"_parent\"><img src=\"https://colab.research.google.com/assets/colab-badge.svg\" alt=\"Open In Colab\"/></a>"
      ]
    },
    {
      "cell_type": "code",
      "metadata": {
        "id": "d5yhJ7zm8BTa"
      },
      "source": [
        "root = '/content/drive/MyDrive/DLCVNLP_aug_files'"
      ],
      "execution_count": 2,
      "outputs": []
    },
    {
      "cell_type": "code",
      "metadata": {
        "colab": {
          "base_uri": "https://localhost:8080/"
        },
        "id": "FXG-F1hO8L4Y",
        "outputId": "eb9a834e-0a97-4040-feea-6840ec24b1fd"
      },
      "source": [
        "from google.colab import drive\n",
        "drive.mount('/content/drive')"
      ],
      "execution_count": 3,
      "outputs": [
        {
          "output_type": "stream",
          "name": "stdout",
          "text": [
            "Mounted at /content/drive\n"
          ]
        }
      ]
    },
    {
      "cell_type": "code",
      "metadata": {
        "id": "4ajfIwXN8PvC"
      },
      "source": [
        "import os\n",
        "os.chdir(root)"
      ],
      "execution_count": 4,
      "outputs": []
    },
    {
      "cell_type": "code",
      "metadata": {
        "id": "QUTDwG4o-QXs"
      },
      "source": [
        "with open('test.txt', 'w') as f:\n",
        "  f.writelines('hello preeti')"
      ],
      "execution_count": 5,
      "outputs": []
    },
    {
      "cell_type": "code",
      "metadata": {
        "colab": {
          "base_uri": "https://localhost:8080/"
        },
        "id": "WyVS1TeB-QTh",
        "outputId": "14bdef44-fe9f-498d-eef9-dfb5d5719116"
      },
      "source": [
        "!pwd"
      ],
      "execution_count": 6,
      "outputs": [
        {
          "output_type": "stream",
          "name": "stdout",
          "text": [
            "/content/drive/My Drive/DLCVNLP_aug_files\n"
          ]
        }
      ]
    },
    {
      "cell_type": "code",
      "metadata": {
        "id": "EtNuoqeW-QQR"
      },
      "source": [
        "import numpy as np\n",
        "import pandas as pd\n",
        "import matplotlib.pyplot as plt\n",
        "import joblib # to save the model as a binary file\n",
        "from matplotlib.colors import ListedColormap\n",
        "\n",
        "plt.style.use('fivethirtyeight')"
      ],
      "execution_count": 7,
      "outputs": []
    },
    {
      "cell_type": "code",
      "metadata": {
        "id": "zTyST87l_vxX"
      },
      "source": [
        "class Perceptron:\n",
        "  def __init__(self, eta, epochs):\n",
        "    self.weights = np.random.randn(3) * 1e-4\n",
        "    print(f\"initial weights before training: {self.weights}\")\n",
        "    self.eta = eta\n",
        "    self.epochs = epochs\n",
        "\n",
        "  def activationFunction(self, inputs, weights):\n",
        "    z = np.dot(inputs, weights)\n",
        "    return np.where(z>0, 1, 0) # step activation function \n",
        "    \n",
        "\n",
        "  def fit(self, X, y):\n",
        "    self.X = X\n",
        "    self.y = y\n",
        "\n",
        "    X_with_bias = np.c_[self.X, -np.ones((len(self.X), 1))]\n",
        "    print(f\"X with bias: {X_with_bias}\")\n",
        "\n",
        "    for epoch in range(self.epochs):\n",
        "      print(\"--\"* 10)\n",
        "      print(f'for epoch: {epoch}')\n",
        "      print(\"--\"* 10)\n",
        "      \n",
        "      y_hat = self.activationFunction(X_with_bias, self.weights)  # forward propagation\n",
        "      print(f\"predicted value after forward pass: {y_hat}\")\n",
        "\n",
        "      self.error = self.y - y_hat\n",
        "      print(f\"error: {self.error}\")\n",
        "      \n",
        "      self.weights = self.weights + self.eta * np.dot(X_with_bias.T, self.error)\n",
        "      print(f\"updated weights after epoch: \\n{epoch}/{self.epochs}: \\n{self.weights}\")\n",
        "      print(\"######\" * 10)\n",
        "\n",
        "\n",
        "  def predict(self, X):\n",
        "    X_with_bias = np.c_[X, -np.ones((len(X), 1))]\n",
        "    return self.activationFunction(X_with_bias, self.weights)\n",
        "\n",
        "  def total_loss(self):\n",
        "    total_loss = np.sum(self.error)\n",
        "    print(f\"total loss: {total_loss}\")\n",
        "    return total_loss"
      ],
      "execution_count": 15,
      "outputs": []
    },
    {
      "cell_type": "markdown",
      "metadata": {
        "id": "RPAKL6z981hU"
      },
      "source": [
        ""
      ]
    },
    {
      "cell_type": "code",
      "metadata": {
        "id": "NjMNziYJ-Pce"
      },
      "source": [
        "def prepare_data(df):\n",
        "  X = df.drop('y', axis = 1)\n",
        "  y = df['y']\n",
        "  return X, y"
      ],
      "execution_count": 16,
      "outputs": []
    },
    {
      "cell_type": "code",
      "metadata": {
        "colab": {
          "base_uri": "https://localhost:8080/",
          "height": 172
        },
        "id": "_errQbYCCJ8v",
        "outputId": "41379b87-cd27-4be4-d8c3-00ba3949229b"
      },
      "source": [
        "AND = { \n",
        "    'x1': [0,0,1,1],\n",
        "    'x2': [0,1,0,1],\n",
        "    'y': [0,0,0,1]\n",
        "       }\n",
        "\n",
        "df_and = pd.DataFrame(AND)\n",
        "df_and"
      ],
      "execution_count": 42,
      "outputs": [
        {
          "output_type": "execute_result",
          "data": {
            "text/html": [
              "<div>\n",
              "<style scoped>\n",
              "    .dataframe tbody tr th:only-of-type {\n",
              "        vertical-align: middle;\n",
              "    }\n",
              "\n",
              "    .dataframe tbody tr th {\n",
              "        vertical-align: top;\n",
              "    }\n",
              "\n",
              "    .dataframe thead th {\n",
              "        text-align: right;\n",
              "    }\n",
              "</style>\n",
              "<table border=\"1\" class=\"dataframe\">\n",
              "  <thead>\n",
              "    <tr style=\"text-align: right;\">\n",
              "      <th></th>\n",
              "      <th>x1</th>\n",
              "      <th>x2</th>\n",
              "      <th>y</th>\n",
              "    </tr>\n",
              "  </thead>\n",
              "  <tbody>\n",
              "    <tr>\n",
              "      <th>0</th>\n",
              "      <td>0</td>\n",
              "      <td>0</td>\n",
              "      <td>0</td>\n",
              "    </tr>\n",
              "    <tr>\n",
              "      <th>1</th>\n",
              "      <td>0</td>\n",
              "      <td>1</td>\n",
              "      <td>0</td>\n",
              "    </tr>\n",
              "    <tr>\n",
              "      <th>2</th>\n",
              "      <td>1</td>\n",
              "      <td>0</td>\n",
              "      <td>0</td>\n",
              "    </tr>\n",
              "    <tr>\n",
              "      <th>3</th>\n",
              "      <td>1</td>\n",
              "      <td>1</td>\n",
              "      <td>1</td>\n",
              "    </tr>\n",
              "  </tbody>\n",
              "</table>\n",
              "</div>"
            ],
            "text/plain": [
              "   x1  x2  y\n",
              "0   0   0  0\n",
              "1   0   1  0\n",
              "2   1   0  0\n",
              "3   1   1  1"
            ]
          },
          "metadata": {},
          "execution_count": 42
        }
      ]
    },
    {
      "cell_type": "code",
      "metadata": {
        "colab": {
          "base_uri": "https://localhost:8080/"
        },
        "id": "DyN3cmrpGSuf",
        "outputId": "e8c6a4fd-7b1a-4372-9bde-8c63aa2b2a47"
      },
      "source": [
        "X, y = prepare_data(df_and)\n",
        "\n",
        "ETA = 0.3\n",
        "EPOCHS = 10\n",
        "\n",
        "model_and = Perceptron(eta = ETA, epochs = EPOCHS)\n",
        "model_and.fit(X, y)\n",
        "\n",
        "_ = model_and.total_loss()"
      ],
      "execution_count": 44,
      "outputs": [
        {
          "output_type": "stream",
          "name": "stdout",
          "text": [
            "initial weights before training: [ 1.15952377e-04  3.82726488e-05 -8.38763099e-05]\n",
            "X with bias: [[ 0.  0. -1.]\n",
            " [ 0.  1. -1.]\n",
            " [ 1.  0. -1.]\n",
            " [ 1.  1. -1.]]\n",
            "--------------------\n",
            "for epoch: 0\n",
            "--------------------\n",
            "predicted value after forward pass: [1 1 1 1]\n",
            "error: 0   -1\n",
            "1   -1\n",
            "2   -1\n",
            "3    0\n",
            "Name: y, dtype: int64\n",
            "updated weights after epoch: \n",
            "0/10: \n",
            "[-0.29988405 -0.29996173  0.89991612]\n",
            "############################################################\n",
            "--------------------\n",
            "for epoch: 1\n",
            "--------------------\n",
            "predicted value after forward pass: [0 0 0 0]\n",
            "error: 0    0\n",
            "1    0\n",
            "2    0\n",
            "3    1\n",
            "Name: y, dtype: int64\n",
            "updated weights after epoch: \n",
            "1/10: \n",
            "[1.15952377e-04 3.82726488e-05 5.99916124e-01]\n",
            "############################################################\n",
            "--------------------\n",
            "for epoch: 2\n",
            "--------------------\n",
            "predicted value after forward pass: [0 0 0 0]\n",
            "error: 0    0\n",
            "1    0\n",
            "2    0\n",
            "3    1\n",
            "Name: y, dtype: int64\n",
            "updated weights after epoch: \n",
            "2/10: \n",
            "[0.30011595 0.30003827 0.29991612]\n",
            "############################################################\n",
            "--------------------\n",
            "for epoch: 3\n",
            "--------------------\n",
            "predicted value after forward pass: [0 1 1 1]\n",
            "error: 0    0\n",
            "1   -1\n",
            "2   -1\n",
            "3    0\n",
            "Name: y, dtype: int64\n",
            "updated weights after epoch: \n",
            "3/10: \n",
            "[1.15952377e-04 3.82726488e-05 8.99916124e-01]\n",
            "############################################################\n",
            "--------------------\n",
            "for epoch: 4\n",
            "--------------------\n",
            "predicted value after forward pass: [0 0 0 0]\n",
            "error: 0    0\n",
            "1    0\n",
            "2    0\n",
            "3    1\n",
            "Name: y, dtype: int64\n",
            "updated weights after epoch: \n",
            "4/10: \n",
            "[0.30011595 0.30003827 0.59991612]\n",
            "############################################################\n",
            "--------------------\n",
            "for epoch: 5\n",
            "--------------------\n",
            "predicted value after forward pass: [0 0 0 1]\n",
            "error: 0    0\n",
            "1    0\n",
            "2    0\n",
            "3    0\n",
            "Name: y, dtype: int64\n",
            "updated weights after epoch: \n",
            "5/10: \n",
            "[0.30011595 0.30003827 0.59991612]\n",
            "############################################################\n",
            "--------------------\n",
            "for epoch: 6\n",
            "--------------------\n",
            "predicted value after forward pass: [0 0 0 1]\n",
            "error: 0    0\n",
            "1    0\n",
            "2    0\n",
            "3    0\n",
            "Name: y, dtype: int64\n",
            "updated weights after epoch: \n",
            "6/10: \n",
            "[0.30011595 0.30003827 0.59991612]\n",
            "############################################################\n",
            "--------------------\n",
            "for epoch: 7\n",
            "--------------------\n",
            "predicted value after forward pass: [0 0 0 1]\n",
            "error: 0    0\n",
            "1    0\n",
            "2    0\n",
            "3    0\n",
            "Name: y, dtype: int64\n",
            "updated weights after epoch: \n",
            "7/10: \n",
            "[0.30011595 0.30003827 0.59991612]\n",
            "############################################################\n",
            "--------------------\n",
            "for epoch: 8\n",
            "--------------------\n",
            "predicted value after forward pass: [0 0 0 1]\n",
            "error: 0    0\n",
            "1    0\n",
            "2    0\n",
            "3    0\n",
            "Name: y, dtype: int64\n",
            "updated weights after epoch: \n",
            "8/10: \n",
            "[0.30011595 0.30003827 0.59991612]\n",
            "############################################################\n",
            "--------------------\n",
            "for epoch: 9\n",
            "--------------------\n",
            "predicted value after forward pass: [0 0 0 1]\n",
            "error: 0    0\n",
            "1    0\n",
            "2    0\n",
            "3    0\n",
            "Name: y, dtype: int64\n",
            "updated weights after epoch: \n",
            "9/10: \n",
            "[0.30011595 0.30003827 0.59991612]\n",
            "############################################################\n",
            "total loss: 0\n"
          ]
        }
      ]
    },
    {
      "cell_type": "code",
      "metadata": {
        "id": "93_It6RhHQ5E",
        "colab": {
          "base_uri": "https://localhost:8080/"
        },
        "outputId": "aea8a7e8-7092-4a72-a1b1-642fa3f85c7a"
      },
      "source": [
        "model_and.predict(X)"
      ],
      "execution_count": 45,
      "outputs": [
        {
          "output_type": "execute_result",
          "data": {
            "text/plain": [
              "array([0, 0, 0, 1])"
            ]
          },
          "metadata": {},
          "execution_count": 45
        }
      ]
    },
    {
      "cell_type": "code",
      "metadata": {
        "colab": {
          "base_uri": "https://localhost:8080/"
        },
        "id": "_bbNahfg2RLZ",
        "outputId": "14763037-098a-4585-cbfb-d5b62e7e4252"
      },
      "source": [
        "input = np.array([[1,1], [1,0]])\n",
        "model_and.predict(input)"
      ],
      "execution_count": 46,
      "outputs": [
        {
          "output_type": "execute_result",
          "data": {
            "text/plain": [
              "array([1, 0])"
            ]
          },
          "metadata": {},
          "execution_count": 46
        }
      ]
    },
    {
      "cell_type": "code",
      "metadata": {
        "id": "8MTE6wge2WeG"
      },
      "source": [
        "def save_model(model, filename):\n",
        "  model_dir = 'models'\n",
        "  os.makedirs(model_dir, exist_ok = True) # only create if model_dir does not exist\n",
        "  filePath = os.path.join(model_dir, filename)\n",
        "  joblib.dump(model, filePath)"
      ],
      "execution_count": 47,
      "outputs": []
    },
    {
      "cell_type": "code",
      "metadata": {
        "id": "8Af4Vg8M3YO7"
      },
      "source": [
        "save_model(model_and, 'and.model')"
      ],
      "execution_count": 48,
      "outputs": []
    },
    {
      "cell_type": "code",
      "metadata": {
        "colab": {
          "base_uri": "https://localhost:8080/"
        },
        "id": "8yFSbNOD3b4F",
        "outputId": "deab6135-c002-4e04-d7be-baff0d4656a6"
      },
      "source": [
        "loaded_model = joblib.load(\"models/and.model\")\n",
        "loaded_model.predict(input)"
      ],
      "execution_count": 49,
      "outputs": [
        {
          "output_type": "execute_result",
          "data": {
            "text/plain": [
              "array([1, 0])"
            ]
          },
          "metadata": {},
          "execution_count": 49
        }
      ]
    },
    {
      "cell_type": "markdown",
      "metadata": {
        "id": "txXIrIc34SKG"
      },
      "source": [
        "# OR Gate"
      ]
    },
    {
      "cell_type": "code",
      "metadata": {
        "colab": {
          "base_uri": "https://localhost:8080/",
          "height": 172
        },
        "id": "J9RW9Ev23_Lw",
        "outputId": "731d556f-606d-4f86-a5e3-6706e576ab58"
      },
      "source": [
        "OR = { \n",
        "    'x1': [0,0,1,1],\n",
        "    'x2': [0,1,0,1],\n",
        "    'y': [0,1,1,1]\n",
        "       }\n",
        "\n",
        "df_or = pd.DataFrame(OR)\n",
        "df_or"
      ],
      "execution_count": 50,
      "outputs": [
        {
          "output_type": "execute_result",
          "data": {
            "text/html": [
              "<div>\n",
              "<style scoped>\n",
              "    .dataframe tbody tr th:only-of-type {\n",
              "        vertical-align: middle;\n",
              "    }\n",
              "\n",
              "    .dataframe tbody tr th {\n",
              "        vertical-align: top;\n",
              "    }\n",
              "\n",
              "    .dataframe thead th {\n",
              "        text-align: right;\n",
              "    }\n",
              "</style>\n",
              "<table border=\"1\" class=\"dataframe\">\n",
              "  <thead>\n",
              "    <tr style=\"text-align: right;\">\n",
              "      <th></th>\n",
              "      <th>x1</th>\n",
              "      <th>x2</th>\n",
              "      <th>y</th>\n",
              "    </tr>\n",
              "  </thead>\n",
              "  <tbody>\n",
              "    <tr>\n",
              "      <th>0</th>\n",
              "      <td>0</td>\n",
              "      <td>0</td>\n",
              "      <td>0</td>\n",
              "    </tr>\n",
              "    <tr>\n",
              "      <th>1</th>\n",
              "      <td>0</td>\n",
              "      <td>1</td>\n",
              "      <td>1</td>\n",
              "    </tr>\n",
              "    <tr>\n",
              "      <th>2</th>\n",
              "      <td>1</td>\n",
              "      <td>0</td>\n",
              "      <td>1</td>\n",
              "    </tr>\n",
              "    <tr>\n",
              "      <th>3</th>\n",
              "      <td>1</td>\n",
              "      <td>1</td>\n",
              "      <td>1</td>\n",
              "    </tr>\n",
              "  </tbody>\n",
              "</table>\n",
              "</div>"
            ],
            "text/plain": [
              "   x1  x2  y\n",
              "0   0   0  0\n",
              "1   0   1  1\n",
              "2   1   0  1\n",
              "3   1   1  1"
            ]
          },
          "metadata": {},
          "execution_count": 50
        }
      ]
    },
    {
      "cell_type": "code",
      "metadata": {
        "colab": {
          "base_uri": "https://localhost:8080/"
        },
        "id": "IPhJfsgr4dx-",
        "outputId": "73c775bf-2a8f-44fa-b43e-ec3730972fad"
      },
      "source": [
        "X, y = prepare_data(df_or)\n",
        "\n",
        "ETA = 0.3\n",
        "EPOCHS = 10\n",
        "\n",
        "model_OR = Perceptron(eta = ETA, epochs = EPOCHS)\n",
        "model_OR.fit(X, y)\n",
        "\n",
        "_ = model_OR.total_loss()"
      ],
      "execution_count": 51,
      "outputs": [
        {
          "output_type": "stream",
          "name": "stdout",
          "text": [
            "initial weights before training: [-3.49522478e-05  1.99974588e-05  1.38449783e-05]\n",
            "X with bias: [[ 0.  0. -1.]\n",
            " [ 0.  1. -1.]\n",
            " [ 1.  0. -1.]\n",
            " [ 1.  1. -1.]]\n",
            "--------------------\n",
            "for epoch: 0\n",
            "--------------------\n",
            "predicted value after forward pass: [0 1 0 0]\n",
            "error: 0    0\n",
            "1    0\n",
            "2    1\n",
            "3    1\n",
            "Name: y, dtype: int64\n",
            "updated weights after epoch: \n",
            "0/10: \n",
            "[ 0.59996505  0.30002    -0.59998616]\n",
            "############################################################\n",
            "--------------------\n",
            "for epoch: 1\n",
            "--------------------\n",
            "predicted value after forward pass: [1 1 1 1]\n",
            "error: 0   -1\n",
            "1    0\n",
            "2    0\n",
            "3    0\n",
            "Name: y, dtype: int64\n",
            "updated weights after epoch: \n",
            "1/10: \n",
            "[ 0.59996505  0.30002    -0.29998616]\n",
            "############################################################\n",
            "--------------------\n",
            "for epoch: 2\n",
            "--------------------\n",
            "predicted value after forward pass: [1 1 1 1]\n",
            "error: 0   -1\n",
            "1    0\n",
            "2    0\n",
            "3    0\n",
            "Name: y, dtype: int64\n",
            "updated weights after epoch: \n",
            "2/10: \n",
            "[5.99965048e-01 3.00019997e-01 1.38449783e-05]\n",
            "############################################################\n",
            "--------------------\n",
            "for epoch: 3\n",
            "--------------------\n",
            "predicted value after forward pass: [0 1 1 1]\n",
            "error: 0    0\n",
            "1    0\n",
            "2    0\n",
            "3    0\n",
            "Name: y, dtype: int64\n",
            "updated weights after epoch: \n",
            "3/10: \n",
            "[5.99965048e-01 3.00019997e-01 1.38449783e-05]\n",
            "############################################################\n",
            "--------------------\n",
            "for epoch: 4\n",
            "--------------------\n",
            "predicted value after forward pass: [0 1 1 1]\n",
            "error: 0    0\n",
            "1    0\n",
            "2    0\n",
            "3    0\n",
            "Name: y, dtype: int64\n",
            "updated weights after epoch: \n",
            "4/10: \n",
            "[5.99965048e-01 3.00019997e-01 1.38449783e-05]\n",
            "############################################################\n",
            "--------------------\n",
            "for epoch: 5\n",
            "--------------------\n",
            "predicted value after forward pass: [0 1 1 1]\n",
            "error: 0    0\n",
            "1    0\n",
            "2    0\n",
            "3    0\n",
            "Name: y, dtype: int64\n",
            "updated weights after epoch: \n",
            "5/10: \n",
            "[5.99965048e-01 3.00019997e-01 1.38449783e-05]\n",
            "############################################################\n",
            "--------------------\n",
            "for epoch: 6\n",
            "--------------------\n",
            "predicted value after forward pass: [0 1 1 1]\n",
            "error: 0    0\n",
            "1    0\n",
            "2    0\n",
            "3    0\n",
            "Name: y, dtype: int64\n",
            "updated weights after epoch: \n",
            "6/10: \n",
            "[5.99965048e-01 3.00019997e-01 1.38449783e-05]\n",
            "############################################################\n",
            "--------------------\n",
            "for epoch: 7\n",
            "--------------------\n",
            "predicted value after forward pass: [0 1 1 1]\n",
            "error: 0    0\n",
            "1    0\n",
            "2    0\n",
            "3    0\n",
            "Name: y, dtype: int64\n",
            "updated weights after epoch: \n",
            "7/10: \n",
            "[5.99965048e-01 3.00019997e-01 1.38449783e-05]\n",
            "############################################################\n",
            "--------------------\n",
            "for epoch: 8\n",
            "--------------------\n",
            "predicted value after forward pass: [0 1 1 1]\n",
            "error: 0    0\n",
            "1    0\n",
            "2    0\n",
            "3    0\n",
            "Name: y, dtype: int64\n",
            "updated weights after epoch: \n",
            "8/10: \n",
            "[5.99965048e-01 3.00019997e-01 1.38449783e-05]\n",
            "############################################################\n",
            "--------------------\n",
            "for epoch: 9\n",
            "--------------------\n",
            "predicted value after forward pass: [0 1 1 1]\n",
            "error: 0    0\n",
            "1    0\n",
            "2    0\n",
            "3    0\n",
            "Name: y, dtype: int64\n",
            "updated weights after epoch: \n",
            "9/10: \n",
            "[5.99965048e-01 3.00019997e-01 1.38449783e-05]\n",
            "############################################################\n",
            "total loss: 0\n"
          ]
        }
      ]
    },
    {
      "cell_type": "markdown",
      "metadata": {
        "id": "-opTfuXO4vE0"
      },
      "source": [
        "# XOR"
      ]
    },
    {
      "cell_type": "code",
      "metadata": {
        "colab": {
          "base_uri": "https://localhost:8080/",
          "height": 172
        },
        "id": "_gVzrPU34q3P",
        "outputId": "595d3f67-3b80-4c73-87dc-3a6b151ba3f6"
      },
      "source": [
        "XOR = { \n",
        "    'x1': [0,0,1,1],\n",
        "    'x2': [0,1,0,1],\n",
        "    'y': [0,1,1,0]\n",
        "       }\n",
        "\n",
        "df_xor = pd.DataFrame(XOR)\n",
        "df_xor"
      ],
      "execution_count": 52,
      "outputs": [
        {
          "output_type": "execute_result",
          "data": {
            "text/html": [
              "<div>\n",
              "<style scoped>\n",
              "    .dataframe tbody tr th:only-of-type {\n",
              "        vertical-align: middle;\n",
              "    }\n",
              "\n",
              "    .dataframe tbody tr th {\n",
              "        vertical-align: top;\n",
              "    }\n",
              "\n",
              "    .dataframe thead th {\n",
              "        text-align: right;\n",
              "    }\n",
              "</style>\n",
              "<table border=\"1\" class=\"dataframe\">\n",
              "  <thead>\n",
              "    <tr style=\"text-align: right;\">\n",
              "      <th></th>\n",
              "      <th>x1</th>\n",
              "      <th>x2</th>\n",
              "      <th>y</th>\n",
              "    </tr>\n",
              "  </thead>\n",
              "  <tbody>\n",
              "    <tr>\n",
              "      <th>0</th>\n",
              "      <td>0</td>\n",
              "      <td>0</td>\n",
              "      <td>0</td>\n",
              "    </tr>\n",
              "    <tr>\n",
              "      <th>1</th>\n",
              "      <td>0</td>\n",
              "      <td>1</td>\n",
              "      <td>1</td>\n",
              "    </tr>\n",
              "    <tr>\n",
              "      <th>2</th>\n",
              "      <td>1</td>\n",
              "      <td>0</td>\n",
              "      <td>1</td>\n",
              "    </tr>\n",
              "    <tr>\n",
              "      <th>3</th>\n",
              "      <td>1</td>\n",
              "      <td>1</td>\n",
              "      <td>0</td>\n",
              "    </tr>\n",
              "  </tbody>\n",
              "</table>\n",
              "</div>"
            ],
            "text/plain": [
              "   x1  x2  y\n",
              "0   0   0  0\n",
              "1   0   1  1\n",
              "2   1   0  1\n",
              "3   1   1  0"
            ]
          },
          "metadata": {},
          "execution_count": 52
        }
      ]
    },
    {
      "cell_type": "code",
      "metadata": {
        "colab": {
          "base_uri": "https://localhost:8080/"
        },
        "id": "qPvve1mc4-qB",
        "outputId": "2d57743c-9aef-4517-d3d2-2cdc23c04f9b"
      },
      "source": [
        "X, y = prepare_data(df_xor)\n",
        "\n",
        "ETA = 0.3\n",
        "EPOCHS = 10\n",
        "\n",
        "model_XOR = Perceptron(eta = ETA, epochs = EPOCHS)\n",
        "model_XOR.fit(X, y)\n",
        "\n",
        "_ = model_XOR.total_loss()"
      ],
      "execution_count": 53,
      "outputs": [
        {
          "output_type": "stream",
          "name": "stdout",
          "text": [
            "initial weights before training: [1.22578279e-05 2.55055244e-05 9.22564059e-05]\n",
            "X with bias: [[ 0.  0. -1.]\n",
            " [ 0.  1. -1.]\n",
            " [ 1.  0. -1.]\n",
            " [ 1.  1. -1.]]\n",
            "--------------------\n",
            "for epoch: 0\n",
            "--------------------\n",
            "predicted value after forward pass: [0 0 0 0]\n",
            "error: 0    0\n",
            "1    1\n",
            "2    1\n",
            "3    0\n",
            "Name: y, dtype: int64\n",
            "updated weights after epoch: \n",
            "0/10: \n",
            "[ 0.30001226  0.30002551 -0.59990774]\n",
            "############################################################\n",
            "--------------------\n",
            "for epoch: 1\n",
            "--------------------\n",
            "predicted value after forward pass: [1 1 1 1]\n",
            "error: 0   -1\n",
            "1    0\n",
            "2    0\n",
            "3   -1\n",
            "Name: y, dtype: int64\n",
            "updated weights after epoch: \n",
            "1/10: \n",
            "[1.22578279e-05 2.55055244e-05 9.22564059e-05]\n",
            "############################################################\n",
            "--------------------\n",
            "for epoch: 2\n",
            "--------------------\n",
            "predicted value after forward pass: [0 0 0 0]\n",
            "error: 0    0\n",
            "1    1\n",
            "2    1\n",
            "3    0\n",
            "Name: y, dtype: int64\n",
            "updated weights after epoch: \n",
            "2/10: \n",
            "[ 0.30001226  0.30002551 -0.59990774]\n",
            "############################################################\n",
            "--------------------\n",
            "for epoch: 3\n",
            "--------------------\n",
            "predicted value after forward pass: [1 1 1 1]\n",
            "error: 0   -1\n",
            "1    0\n",
            "2    0\n",
            "3   -1\n",
            "Name: y, dtype: int64\n",
            "updated weights after epoch: \n",
            "3/10: \n",
            "[1.22578279e-05 2.55055244e-05 9.22564059e-05]\n",
            "############################################################\n",
            "--------------------\n",
            "for epoch: 4\n",
            "--------------------\n",
            "predicted value after forward pass: [0 0 0 0]\n",
            "error: 0    0\n",
            "1    1\n",
            "2    1\n",
            "3    0\n",
            "Name: y, dtype: int64\n",
            "updated weights after epoch: \n",
            "4/10: \n",
            "[ 0.30001226  0.30002551 -0.59990774]\n",
            "############################################################\n",
            "--------------------\n",
            "for epoch: 5\n",
            "--------------------\n",
            "predicted value after forward pass: [1 1 1 1]\n",
            "error: 0   -1\n",
            "1    0\n",
            "2    0\n",
            "3   -1\n",
            "Name: y, dtype: int64\n",
            "updated weights after epoch: \n",
            "5/10: \n",
            "[1.22578279e-05 2.55055244e-05 9.22564059e-05]\n",
            "############################################################\n",
            "--------------------\n",
            "for epoch: 6\n",
            "--------------------\n",
            "predicted value after forward pass: [0 0 0 0]\n",
            "error: 0    0\n",
            "1    1\n",
            "2    1\n",
            "3    0\n",
            "Name: y, dtype: int64\n",
            "updated weights after epoch: \n",
            "6/10: \n",
            "[ 0.30001226  0.30002551 -0.59990774]\n",
            "############################################################\n",
            "--------------------\n",
            "for epoch: 7\n",
            "--------------------\n",
            "predicted value after forward pass: [1 1 1 1]\n",
            "error: 0   -1\n",
            "1    0\n",
            "2    0\n",
            "3   -1\n",
            "Name: y, dtype: int64\n",
            "updated weights after epoch: \n",
            "7/10: \n",
            "[1.22578279e-05 2.55055244e-05 9.22564059e-05]\n",
            "############################################################\n",
            "--------------------\n",
            "for epoch: 8\n",
            "--------------------\n",
            "predicted value after forward pass: [0 0 0 0]\n",
            "error: 0    0\n",
            "1    1\n",
            "2    1\n",
            "3    0\n",
            "Name: y, dtype: int64\n",
            "updated weights after epoch: \n",
            "8/10: \n",
            "[ 0.30001226  0.30002551 -0.59990774]\n",
            "############################################################\n",
            "--------------------\n",
            "for epoch: 9\n",
            "--------------------\n",
            "predicted value after forward pass: [1 1 1 1]\n",
            "error: 0   -1\n",
            "1    0\n",
            "2    0\n",
            "3   -1\n",
            "Name: y, dtype: int64\n",
            "updated weights after epoch: \n",
            "9/10: \n",
            "[1.22578279e-05 2.55055244e-05 9.22564059e-05]\n",
            "############################################################\n",
            "total loss: -2\n"
          ]
        }
      ]
    },
    {
      "cell_type": "code",
      "metadata": {
        "id": "BQL78joV5Ilq"
      },
      "source": [
        "def save_plot(df, file_name, model):\n",
        "  def _create_base_plot(df):\n",
        "    df.plot(kind = 'scatter', x = 'x1', y = 'x2', c='y', s= 100, cmap = 'winter')\n",
        "    plt.axhline(y=0, color= 'black', linestyle='--', linewidth= 1)\n",
        "    plt.axvline(x=0, color= 'black', linestyle= '--', linewidth=1)\n",
        "    figure = plt.gcf() # get current figure\n",
        "    figure.set_size_inches(10,8)\n",
        "\n",
        "  def _plot_decision_regions(X, y, classifier, resolution = 0.2):\n",
        "    colors = ('red', 'blue', 'lightgreen', 'gray', 'cyan')\n",
        "    cmap = ListedColormap(colors[: len(np.unique(y))])\n",
        "\n",
        "    X = X.values\n",
        "    x1 = X[:, 0]\n",
        "    x2 = X[:,1]\n",
        "    x1_min, x1_max = x1.min()-1, x1.max()+1\n",
        "    x2_min, x2_max = x2.min()-1, x2.max()+1\n",
        "\n",
        "    xx1, xx2 = np.meshgrid(np.arange(x1_min, x1_max, resolution),\n",
        "                           np.arange(x2_min, x2_max, resolution))\n",
        "    print(xx1)\n",
        "    print(xx1.ravel())\n",
        "    Z = classifier.predict(np.array([xx1.ravel(), xx2.ravel()]).T)\n",
        "    Z = Z.reshape(xx1.shape)\n",
        "    plt.contourf(xx1, xx2, Z, alpha=0.2, cmap=cmap)\n",
        "    plt.xlim(xx1.min(), xx1.max())\n",
        "    plt.ylim(xx2.min(), xx2.max())\n",
        "\n",
        "    plt.plot()\n",
        "\n",
        "  X, y = prepare_data(df)\n",
        "  _create_base_plot(df)\n",
        "  _plot_decision_regions(X, y, model)\n",
        "\n",
        "  plot_dir = 'plots'\n",
        "  os.makedirs(plot_dir, exist_ok= True)\n",
        "  plotPath= os.path.join(plot_dir, file_name)\n",
        "  plt.savefig(plotPath)\n",
        "\n"
      ],
      "execution_count": 66,
      "outputs": []
    },
    {
      "cell_type": "markdown",
      "metadata": {
        "id": "lmF8rlEhEkBh"
      },
      "source": [
        "# plots"
      ]
    },
    {
      "cell_type": "code",
      "metadata": {
        "colab": {
          "base_uri": "https://localhost:8080/",
          "height": 1000
        },
        "id": "Hd3hN36FB7Mp",
        "outputId": "1d12916e-bf5a-48ac-812b-ac391aba89fa"
      },
      "source": [
        "save_plot(df_or, 'or.png', model_OR)"
      ],
      "execution_count": 67,
      "outputs": [
        {
          "output_type": "stream",
          "name": "stdout",
          "text": [
            "[[-1.00000000e+00 -8.00000000e-01 -6.00000000e-01 -4.00000000e-01\n",
            "  -2.00000000e-01 -2.22044605e-16  2.00000000e-01  4.00000000e-01\n",
            "   6.00000000e-01  8.00000000e-01  1.00000000e+00  1.20000000e+00\n",
            "   1.40000000e+00  1.60000000e+00  1.80000000e+00]\n",
            " [-1.00000000e+00 -8.00000000e-01 -6.00000000e-01 -4.00000000e-01\n",
            "  -2.00000000e-01 -2.22044605e-16  2.00000000e-01  4.00000000e-01\n",
            "   6.00000000e-01  8.00000000e-01  1.00000000e+00  1.20000000e+00\n",
            "   1.40000000e+00  1.60000000e+00  1.80000000e+00]\n",
            " [-1.00000000e+00 -8.00000000e-01 -6.00000000e-01 -4.00000000e-01\n",
            "  -2.00000000e-01 -2.22044605e-16  2.00000000e-01  4.00000000e-01\n",
            "   6.00000000e-01  8.00000000e-01  1.00000000e+00  1.20000000e+00\n",
            "   1.40000000e+00  1.60000000e+00  1.80000000e+00]\n",
            " [-1.00000000e+00 -8.00000000e-01 -6.00000000e-01 -4.00000000e-01\n",
            "  -2.00000000e-01 -2.22044605e-16  2.00000000e-01  4.00000000e-01\n",
            "   6.00000000e-01  8.00000000e-01  1.00000000e+00  1.20000000e+00\n",
            "   1.40000000e+00  1.60000000e+00  1.80000000e+00]\n",
            " [-1.00000000e+00 -8.00000000e-01 -6.00000000e-01 -4.00000000e-01\n",
            "  -2.00000000e-01 -2.22044605e-16  2.00000000e-01  4.00000000e-01\n",
            "   6.00000000e-01  8.00000000e-01  1.00000000e+00  1.20000000e+00\n",
            "   1.40000000e+00  1.60000000e+00  1.80000000e+00]\n",
            " [-1.00000000e+00 -8.00000000e-01 -6.00000000e-01 -4.00000000e-01\n",
            "  -2.00000000e-01 -2.22044605e-16  2.00000000e-01  4.00000000e-01\n",
            "   6.00000000e-01  8.00000000e-01  1.00000000e+00  1.20000000e+00\n",
            "   1.40000000e+00  1.60000000e+00  1.80000000e+00]\n",
            " [-1.00000000e+00 -8.00000000e-01 -6.00000000e-01 -4.00000000e-01\n",
            "  -2.00000000e-01 -2.22044605e-16  2.00000000e-01  4.00000000e-01\n",
            "   6.00000000e-01  8.00000000e-01  1.00000000e+00  1.20000000e+00\n",
            "   1.40000000e+00  1.60000000e+00  1.80000000e+00]\n",
            " [-1.00000000e+00 -8.00000000e-01 -6.00000000e-01 -4.00000000e-01\n",
            "  -2.00000000e-01 -2.22044605e-16  2.00000000e-01  4.00000000e-01\n",
            "   6.00000000e-01  8.00000000e-01  1.00000000e+00  1.20000000e+00\n",
            "   1.40000000e+00  1.60000000e+00  1.80000000e+00]\n",
            " [-1.00000000e+00 -8.00000000e-01 -6.00000000e-01 -4.00000000e-01\n",
            "  -2.00000000e-01 -2.22044605e-16  2.00000000e-01  4.00000000e-01\n",
            "   6.00000000e-01  8.00000000e-01  1.00000000e+00  1.20000000e+00\n",
            "   1.40000000e+00  1.60000000e+00  1.80000000e+00]\n",
            " [-1.00000000e+00 -8.00000000e-01 -6.00000000e-01 -4.00000000e-01\n",
            "  -2.00000000e-01 -2.22044605e-16  2.00000000e-01  4.00000000e-01\n",
            "   6.00000000e-01  8.00000000e-01  1.00000000e+00  1.20000000e+00\n",
            "   1.40000000e+00  1.60000000e+00  1.80000000e+00]\n",
            " [-1.00000000e+00 -8.00000000e-01 -6.00000000e-01 -4.00000000e-01\n",
            "  -2.00000000e-01 -2.22044605e-16  2.00000000e-01  4.00000000e-01\n",
            "   6.00000000e-01  8.00000000e-01  1.00000000e+00  1.20000000e+00\n",
            "   1.40000000e+00  1.60000000e+00  1.80000000e+00]\n",
            " [-1.00000000e+00 -8.00000000e-01 -6.00000000e-01 -4.00000000e-01\n",
            "  -2.00000000e-01 -2.22044605e-16  2.00000000e-01  4.00000000e-01\n",
            "   6.00000000e-01  8.00000000e-01  1.00000000e+00  1.20000000e+00\n",
            "   1.40000000e+00  1.60000000e+00  1.80000000e+00]\n",
            " [-1.00000000e+00 -8.00000000e-01 -6.00000000e-01 -4.00000000e-01\n",
            "  -2.00000000e-01 -2.22044605e-16  2.00000000e-01  4.00000000e-01\n",
            "   6.00000000e-01  8.00000000e-01  1.00000000e+00  1.20000000e+00\n",
            "   1.40000000e+00  1.60000000e+00  1.80000000e+00]\n",
            " [-1.00000000e+00 -8.00000000e-01 -6.00000000e-01 -4.00000000e-01\n",
            "  -2.00000000e-01 -2.22044605e-16  2.00000000e-01  4.00000000e-01\n",
            "   6.00000000e-01  8.00000000e-01  1.00000000e+00  1.20000000e+00\n",
            "   1.40000000e+00  1.60000000e+00  1.80000000e+00]\n",
            " [-1.00000000e+00 -8.00000000e-01 -6.00000000e-01 -4.00000000e-01\n",
            "  -2.00000000e-01 -2.22044605e-16  2.00000000e-01  4.00000000e-01\n",
            "   6.00000000e-01  8.00000000e-01  1.00000000e+00  1.20000000e+00\n",
            "   1.40000000e+00  1.60000000e+00  1.80000000e+00]]\n",
            "[-1.00000000e+00 -8.00000000e-01 -6.00000000e-01 -4.00000000e-01\n",
            " -2.00000000e-01 -2.22044605e-16  2.00000000e-01  4.00000000e-01\n",
            "  6.00000000e-01  8.00000000e-01  1.00000000e+00  1.20000000e+00\n",
            "  1.40000000e+00  1.60000000e+00  1.80000000e+00 -1.00000000e+00\n",
            " -8.00000000e-01 -6.00000000e-01 -4.00000000e-01 -2.00000000e-01\n",
            " -2.22044605e-16  2.00000000e-01  4.00000000e-01  6.00000000e-01\n",
            "  8.00000000e-01  1.00000000e+00  1.20000000e+00  1.40000000e+00\n",
            "  1.60000000e+00  1.80000000e+00 -1.00000000e+00 -8.00000000e-01\n",
            " -6.00000000e-01 -4.00000000e-01 -2.00000000e-01 -2.22044605e-16\n",
            "  2.00000000e-01  4.00000000e-01  6.00000000e-01  8.00000000e-01\n",
            "  1.00000000e+00  1.20000000e+00  1.40000000e+00  1.60000000e+00\n",
            "  1.80000000e+00 -1.00000000e+00 -8.00000000e-01 -6.00000000e-01\n",
            " -4.00000000e-01 -2.00000000e-01 -2.22044605e-16  2.00000000e-01\n",
            "  4.00000000e-01  6.00000000e-01  8.00000000e-01  1.00000000e+00\n",
            "  1.20000000e+00  1.40000000e+00  1.60000000e+00  1.80000000e+00\n",
            " -1.00000000e+00 -8.00000000e-01 -6.00000000e-01 -4.00000000e-01\n",
            " -2.00000000e-01 -2.22044605e-16  2.00000000e-01  4.00000000e-01\n",
            "  6.00000000e-01  8.00000000e-01  1.00000000e+00  1.20000000e+00\n",
            "  1.40000000e+00  1.60000000e+00  1.80000000e+00 -1.00000000e+00\n",
            " -8.00000000e-01 -6.00000000e-01 -4.00000000e-01 -2.00000000e-01\n",
            " -2.22044605e-16  2.00000000e-01  4.00000000e-01  6.00000000e-01\n",
            "  8.00000000e-01  1.00000000e+00  1.20000000e+00  1.40000000e+00\n",
            "  1.60000000e+00  1.80000000e+00 -1.00000000e+00 -8.00000000e-01\n",
            " -6.00000000e-01 -4.00000000e-01 -2.00000000e-01 -2.22044605e-16\n",
            "  2.00000000e-01  4.00000000e-01  6.00000000e-01  8.00000000e-01\n",
            "  1.00000000e+00  1.20000000e+00  1.40000000e+00  1.60000000e+00\n",
            "  1.80000000e+00 -1.00000000e+00 -8.00000000e-01 -6.00000000e-01\n",
            " -4.00000000e-01 -2.00000000e-01 -2.22044605e-16  2.00000000e-01\n",
            "  4.00000000e-01  6.00000000e-01  8.00000000e-01  1.00000000e+00\n",
            "  1.20000000e+00  1.40000000e+00  1.60000000e+00  1.80000000e+00\n",
            " -1.00000000e+00 -8.00000000e-01 -6.00000000e-01 -4.00000000e-01\n",
            " -2.00000000e-01 -2.22044605e-16  2.00000000e-01  4.00000000e-01\n",
            "  6.00000000e-01  8.00000000e-01  1.00000000e+00  1.20000000e+00\n",
            "  1.40000000e+00  1.60000000e+00  1.80000000e+00 -1.00000000e+00\n",
            " -8.00000000e-01 -6.00000000e-01 -4.00000000e-01 -2.00000000e-01\n",
            " -2.22044605e-16  2.00000000e-01  4.00000000e-01  6.00000000e-01\n",
            "  8.00000000e-01  1.00000000e+00  1.20000000e+00  1.40000000e+00\n",
            "  1.60000000e+00  1.80000000e+00 -1.00000000e+00 -8.00000000e-01\n",
            " -6.00000000e-01 -4.00000000e-01 -2.00000000e-01 -2.22044605e-16\n",
            "  2.00000000e-01  4.00000000e-01  6.00000000e-01  8.00000000e-01\n",
            "  1.00000000e+00  1.20000000e+00  1.40000000e+00  1.60000000e+00\n",
            "  1.80000000e+00 -1.00000000e+00 -8.00000000e-01 -6.00000000e-01\n",
            " -4.00000000e-01 -2.00000000e-01 -2.22044605e-16  2.00000000e-01\n",
            "  4.00000000e-01  6.00000000e-01  8.00000000e-01  1.00000000e+00\n",
            "  1.20000000e+00  1.40000000e+00  1.60000000e+00  1.80000000e+00\n",
            " -1.00000000e+00 -8.00000000e-01 -6.00000000e-01 -4.00000000e-01\n",
            " -2.00000000e-01 -2.22044605e-16  2.00000000e-01  4.00000000e-01\n",
            "  6.00000000e-01  8.00000000e-01  1.00000000e+00  1.20000000e+00\n",
            "  1.40000000e+00  1.60000000e+00  1.80000000e+00 -1.00000000e+00\n",
            " -8.00000000e-01 -6.00000000e-01 -4.00000000e-01 -2.00000000e-01\n",
            " -2.22044605e-16  2.00000000e-01  4.00000000e-01  6.00000000e-01\n",
            "  8.00000000e-01  1.00000000e+00  1.20000000e+00  1.40000000e+00\n",
            "  1.60000000e+00  1.80000000e+00 -1.00000000e+00 -8.00000000e-01\n",
            " -6.00000000e-01 -4.00000000e-01 -2.00000000e-01 -2.22044605e-16\n",
            "  2.00000000e-01  4.00000000e-01  6.00000000e-01  8.00000000e-01\n",
            "  1.00000000e+00  1.20000000e+00  1.40000000e+00  1.60000000e+00\n",
            "  1.80000000e+00]\n"
          ]
        },
        {
          "output_type": "display_data",
          "data": {
            "image/png": "[encoded data removed]",
            "text/plain": [
              "<Figure size 720x576 with 2 Axes>"
            ]
          },
          "metadata": {}
        }
      ]
    },
    {
      "cell_type": "code",
      "metadata": {
        "colab": {
          "base_uri": "https://localhost:8080/",
          "height": 542
        },
        "id": "AZasYZwMCxCW",
        "outputId": "d6fa00e9-98c2-44de-e1a0-20d5c4584efa"
      },
      "source": [
        "save_plot(df_and, 'and.png', model_and)"
      ],
      "execution_count": 65,
      "outputs": [
        {
          "output_type": "display_data",
          "data": {
            "image/png": "[encoded data removed]",
            "text/plain": [
              "<Figure size 720x576 with 2 Axes>"
            ]
          },
          "metadata": {}
        }
      ]
    },
    {
      "cell_type": "code",
      "metadata": {
        "colab": {
          "base_uri": "https://localhost:8080/",
          "height": 1000
        },
        "id": "sujxL-p4Exl6",
        "outputId": "94719c75-bc63-401b-d48a-0098afaf0089"
      },
      "source": [
        "save_plot(df_xor, 'xor.png', model_XOR)"
      ],
      "execution_count": 68,
      "outputs": [
        {
          "output_type": "stream",
          "name": "stdout",
          "text": [
            "[[-1.00000000e+00 -8.00000000e-01 -6.00000000e-01 -4.00000000e-01\n",
            "  -2.00000000e-01 -2.22044605e-16  2.00000000e-01  4.00000000e-01\n",
            "   6.00000000e-01  8.00000000e-01  1.00000000e+00  1.20000000e+00\n",
            "   1.40000000e+00  1.60000000e+00  1.80000000e+00]\n",
            " [-1.00000000e+00 -8.00000000e-01 -6.00000000e-01 -4.00000000e-01\n",
            "  -2.00000000e-01 -2.22044605e-16  2.00000000e-01  4.00000000e-01\n",
            "   6.00000000e-01  8.00000000e-01  1.00000000e+00  1.20000000e+00\n",
            "   1.40000000e+00  1.60000000e+00  1.80000000e+00]\n",
            " [-1.00000000e+00 -8.00000000e-01 -6.00000000e-01 -4.00000000e-01\n",
            "  -2.00000000e-01 -2.22044605e-16  2.00000000e-01  4.00000000e-01\n",
            "   6.00000000e-01  8.00000000e-01  1.00000000e+00  1.20000000e+00\n",
            "   1.40000000e+00  1.60000000e+00  1.80000000e+00]\n",
            " [-1.00000000e+00 -8.00000000e-01 -6.00000000e-01 -4.00000000e-01\n",
            "  -2.00000000e-01 -2.22044605e-16  2.00000000e-01  4.00000000e-01\n",
            "   6.00000000e-01  8.00000000e-01  1.00000000e+00  1.20000000e+00\n",
            "   1.40000000e+00  1.60000000e+00  1.80000000e+00]\n",
            " [-1.00000000e+00 -8.00000000e-01 -6.00000000e-01 -4.00000000e-01\n",
            "  -2.00000000e-01 -2.22044605e-16  2.00000000e-01  4.00000000e-01\n",
            "   6.00000000e-01  8.00000000e-01  1.00000000e+00  1.20000000e+00\n",
            "   1.40000000e+00  1.60000000e+00  1.80000000e+00]\n",
            " [-1.00000000e+00 -8.00000000e-01 -6.00000000e-01 -4.00000000e-01\n",
            "  -2.00000000e-01 -2.22044605e-16  2.00000000e-01  4.00000000e-01\n",
            "   6.00000000e-01  8.00000000e-01  1.00000000e+00  1.20000000e+00\n",
            "   1.40000000e+00  1.60000000e+00  1.80000000e+00]\n",
            " [-1.00000000e+00 -8.00000000e-01 -6.00000000e-01 -4.00000000e-01\n",
            "  -2.00000000e-01 -2.22044605e-16  2.00000000e-01  4.00000000e-01\n",
            "   6.00000000e-01  8.00000000e-01  1.00000000e+00  1.20000000e+00\n",
            "   1.40000000e+00  1.60000000e+00  1.80000000e+00]\n",
            " [-1.00000000e+00 -8.00000000e-01 -6.00000000e-01 -4.00000000e-01\n",
            "  -2.00000000e-01 -2.22044605e-16  2.00000000e-01  4.00000000e-01\n",
            "   6.00000000e-01  8.00000000e-01  1.00000000e+00  1.20000000e+00\n",
            "   1.40000000e+00  1.60000000e+00  1.80000000e+00]\n",
            " [-1.00000000e+00 -8.00000000e-01 -6.00000000e-01 -4.00000000e-01\n",
            "  -2.00000000e-01 -2.22044605e-16  2.00000000e-01  4.00000000e-01\n",
            "   6.00000000e-01  8.00000000e-01  1.00000000e+00  1.20000000e+00\n",
            "   1.40000000e+00  1.60000000e+00  1.80000000e+00]\n",
            " [-1.00000000e+00 -8.00000000e-01 -6.00000000e-01 -4.00000000e-01\n",
            "  -2.00000000e-01 -2.22044605e-16  2.00000000e-01  4.00000000e-01\n",
            "   6.00000000e-01  8.00000000e-01  1.00000000e+00  1.20000000e+00\n",
            "   1.40000000e+00  1.60000000e+00  1.80000000e+00]\n",
            " [-1.00000000e+00 -8.00000000e-01 -6.00000000e-01 -4.00000000e-01\n",
            "  -2.00000000e-01 -2.22044605e-16  2.00000000e-01  4.00000000e-01\n",
            "   6.00000000e-01  8.00000000e-01  1.00000000e+00  1.20000000e+00\n",
            "   1.40000000e+00  1.60000000e+00  1.80000000e+00]\n",
            " [-1.00000000e+00 -8.00000000e-01 -6.00000000e-01 -4.00000000e-01\n",
            "  -2.00000000e-01 -2.22044605e-16  2.00000000e-01  4.00000000e-01\n",
            "   6.00000000e-01  8.00000000e-01  1.00000000e+00  1.20000000e+00\n",
            "   1.40000000e+00  1.60000000e+00  1.80000000e+00]\n",
            " [-1.00000000e+00 -8.00000000e-01 -6.00000000e-01 -4.00000000e-01\n",
            "  -2.00000000e-01 -2.22044605e-16  2.00000000e-01  4.00000000e-01\n",
            "   6.00000000e-01  8.00000000e-01  1.00000000e+00  1.20000000e+00\n",
            "   1.40000000e+00  1.60000000e+00  1.80000000e+00]\n",
            " [-1.00000000e+00 -8.00000000e-01 -6.00000000e-01 -4.00000000e-01\n",
            "  -2.00000000e-01 -2.22044605e-16  2.00000000e-01  4.00000000e-01\n",
            "   6.00000000e-01  8.00000000e-01  1.00000000e+00  1.20000000e+00\n",
            "   1.40000000e+00  1.60000000e+00  1.80000000e+00]\n",
            " [-1.00000000e+00 -8.00000000e-01 -6.00000000e-01 -4.00000000e-01\n",
            "  -2.00000000e-01 -2.22044605e-16  2.00000000e-01  4.00000000e-01\n",
            "   6.00000000e-01  8.00000000e-01  1.00000000e+00  1.20000000e+00\n",
            "   1.40000000e+00  1.60000000e+00  1.80000000e+00]]\n",
            "[-1.00000000e+00 -8.00000000e-01 -6.00000000e-01 -4.00000000e-01\n",
            " -2.00000000e-01 -2.22044605e-16  2.00000000e-01  4.00000000e-01\n",
            "  6.00000000e-01  8.00000000e-01  1.00000000e+00  1.20000000e+00\n",
            "  1.40000000e+00  1.60000000e+00  1.80000000e+00 -1.00000000e+00\n",
            " -8.00000000e-01 -6.00000000e-01 -4.00000000e-01 -2.00000000e-01\n",
            " -2.22044605e-16  2.00000000e-01  4.00000000e-01  6.00000000e-01\n",
            "  8.00000000e-01  1.00000000e+00  1.20000000e+00  1.40000000e+00\n",
            "  1.60000000e+00  1.80000000e+00 -1.00000000e+00 -8.00000000e-01\n",
            " -6.00000000e-01 -4.00000000e-01 -2.00000000e-01 -2.22044605e-16\n",
            "  2.00000000e-01  4.00000000e-01  6.00000000e-01  8.00000000e-01\n",
            "  1.00000000e+00  1.20000000e+00  1.40000000e+00  1.60000000e+00\n",
            "  1.80000000e+00 -1.00000000e+00 -8.00000000e-01 -6.00000000e-01\n",
            " -4.00000000e-01 -2.00000000e-01 -2.22044605e-16  2.00000000e-01\n",
            "  4.00000000e-01  6.00000000e-01  8.00000000e-01  1.00000000e+00\n",
            "  1.20000000e+00  1.40000000e+00  1.60000000e+00  1.80000000e+00\n",
            " -1.00000000e+00 -8.00000000e-01 -6.00000000e-01 -4.00000000e-01\n",
            " -2.00000000e-01 -2.22044605e-16  2.00000000e-01  4.00000000e-01\n",
            "  6.00000000e-01  8.00000000e-01  1.00000000e+00  1.20000000e+00\n",
            "  1.40000000e+00  1.60000000e+00  1.80000000e+00 -1.00000000e+00\n",
            " -8.00000000e-01 -6.00000000e-01 -4.00000000e-01 -2.00000000e-01\n",
            " -2.22044605e-16  2.00000000e-01  4.00000000e-01  6.00000000e-01\n",
            "  8.00000000e-01  1.00000000e+00  1.20000000e+00  1.40000000e+00\n",
            "  1.60000000e+00  1.80000000e+00 -1.00000000e+00 -8.00000000e-01\n",
            " -6.00000000e-01 -4.00000000e-01 -2.00000000e-01 -2.22044605e-16\n",
            "  2.00000000e-01  4.00000000e-01  6.00000000e-01  8.00000000e-01\n",
            "  1.00000000e+00  1.20000000e+00  1.40000000e+00  1.60000000e+00\n",
            "  1.80000000e+00 -1.00000000e+00 -8.00000000e-01 -6.00000000e-01\n",
            " -4.00000000e-01 -2.00000000e-01 -2.22044605e-16  2.00000000e-01\n",
            "  4.00000000e-01  6.00000000e-01  8.00000000e-01  1.00000000e+00\n",
            "  1.20000000e+00  1.40000000e+00  1.60000000e+00  1.80000000e+00\n",
            " -1.00000000e+00 -8.00000000e-01 -6.00000000e-01 -4.00000000e-01\n",
            " -2.00000000e-01 -2.22044605e-16  2.00000000e-01  4.00000000e-01\n",
            "  6.00000000e-01  8.00000000e-01  1.00000000e+00  1.20000000e+00\n",
            "  1.40000000e+00  1.60000000e+00  1.80000000e+00 -1.00000000e+00\n",
            " -8.00000000e-01 -6.00000000e-01 -4.00000000e-01 -2.00000000e-01\n",
            " -2.22044605e-16  2.00000000e-01  4.00000000e-01  6.00000000e-01\n",
            "  8.00000000e-01  1.00000000e+00  1.20000000e+00  1.40000000e+00\n",
            "  1.60000000e+00  1.80000000e+00 -1.00000000e+00 -8.00000000e-01\n",
            " -6.00000000e-01 -4.00000000e-01 -2.00000000e-01 -2.22044605e-16\n",
            "  2.00000000e-01  4.00000000e-01  6.00000000e-01  8.00000000e-01\n",
            "  1.00000000e+00  1.20000000e+00  1.40000000e+00  1.60000000e+00\n",
            "  1.80000000e+00 -1.00000000e+00 -8.00000000e-01 -6.00000000e-01\n",
            " -4.00000000e-01 -2.00000000e-01 -2.22044605e-16  2.00000000e-01\n",
            "  4.00000000e-01  6.00000000e-01  8.00000000e-01  1.00000000e+00\n",
            "  1.20000000e+00  1.40000000e+00  1.60000000e+00  1.80000000e+00\n",
            " -1.00000000e+00 -8.00000000e-01 -6.00000000e-01 -4.00000000e-01\n",
            " -2.00000000e-01 -2.22044605e-16  2.00000000e-01  4.00000000e-01\n",
            "  6.00000000e-01  8.00000000e-01  1.00000000e+00  1.20000000e+00\n",
            "  1.40000000e+00  1.60000000e+00  1.80000000e+00 -1.00000000e+00\n",
            " -8.00000000e-01 -6.00000000e-01 -4.00000000e-01 -2.00000000e-01\n",
            " -2.22044605e-16  2.00000000e-01  4.00000000e-01  6.00000000e-01\n",
            "  8.00000000e-01  1.00000000e+00  1.20000000e+00  1.40000000e+00\n",
            "  1.60000000e+00  1.80000000e+00 -1.00000000e+00 -8.00000000e-01\n",
            " -6.00000000e-01 -4.00000000e-01 -2.00000000e-01 -2.22044605e-16\n",
            "  2.00000000e-01  4.00000000e-01  6.00000000e-01  8.00000000e-01\n",
            "  1.00000000e+00  1.20000000e+00  1.40000000e+00  1.60000000e+00\n",
            "  1.80000000e+00]\n"
          ]
        },
        {
          "output_type": "display_data",
          "data": {
            "image/png": "[encoded data removed]",
            "text/plain": [
              "<Figure size 720x576 with 2 Axes>"
            ]
          },
          "metadata": {}
        }
      ]
    },
    {
      "cell_type": "code",
      "metadata": {
        "id": "JFR7J6w6KOKW"
      },
      "source": [
        ""
      ],
      "execution_count": null,
      "outputs": []
    }
  ]
}